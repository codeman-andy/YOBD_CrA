{
 "cells": [
  {
   "cell_type": "code",
   "execution_count": 7,
   "metadata": {},
   "outputs": [
    {
     "name": "stderr",
     "output_type": "stream",
     "text": [
      "WARNING: VerifyWarning: Invalid 'BLANK' keyword in header.  The 'BLANK' keyword is only applicable to integer data, and will be ignored in this HDU. [astropy.io.fits.hdu.image]\n",
      "WARNING: FITSFixedWarning: RADECSYS= 'FK5 ' / The equatorial coordinate system \n",
      "the RADECSYS keyword is deprecated, use RADESYSa. [astropy.wcs.wcs]\n",
      "WARNING: FITSFixedWarning: 'datfix' made the change 'Set MJD-OBS to 57900.000000 from DATE-OBS.\n",
      "Set DATE-END to '2017-05-27T11:48:22.406' from MJD-END'. [astropy.wcs.wcs]\n"
     ]
    }
   ],
   "source": [
    "## SEXTRACTOR CELL FOR THE I-BAND FILTER USING FIXED APERTURE PHOTOMETRY ##\n",
    "\n",
    "%run SExtractor.ipynb\n",
    "\n",
    "# The configuration parameters being used\n",
    "cfg_param = 'MINAREA_4_THRESH_2_dot_7_SNR_20_SATUR_LEVEL_B4_PSFEX_30000_SMP_VAR_0_dot_2_SEEING_6_dot_7_7_MAG_PSF'\n",
    "\n",
    "# The make_PSF function creates the PSF(s) for a given image(s) using the SExtractor and PSFEx tools #\n",
    "# SExtractor will build a catalog of the image in the FITS_LDAC format to be used later by PSFEx #\n",
    "# im_path --- The path to the image(s) from which the PSF(s) will be built #\n",
    "# cat_path --- Path to the directory containing the catalog(s) of the sources present in the image(s) #\n",
    "# tmp_path --- Temporary directory where the newly-created PSF will be generated (typically the same directory from where Python is being run) #\n",
    "# save_path --- The directory where the PSF(s) will be stored #\n",
    "# sex_cfg --- Config file to be used when running SExtractor #\n",
    "# psfex_cfg --- Config file to be used when running PSFEx #\n",
    "\n",
    "im_path = '/home/yobd/Documents/AstroAliSciObj/NaN_Edges/W-S-I+_Images/'\n",
    "\n",
    "cat_path = '/home/yobd/Documents/AstroAliSciObj/W-S-I+/' + cfg_param + '/Catalogs_Pre_PSF/'\n",
    "\n",
    "tmp_path = '/home/yobd/Documents/'\n",
    "\n",
    "save_path = '/home/yobd/Documents/AstroAliSciObj/W-S-I+/' + cfg_param + '/PSFs/'\n",
    "\n",
    "sex_cfg = '/home/yobd/Documents/before_psfex_aper.sex'\n",
    "\n",
    "psfex_cfg = '/home/yobd/Documents/aper.psfex'\n",
    "\n",
    "make_PSF(im_path, cat_path, tmp_path, save_path, sex_cfg, psfex_cfg)\n",
    "\n",
    "# The apply_PSF applies the PSF(s) created during the make_PSF command to the image(s) #\n",
    "# im_path --- The path to the image(s) on which the user wishes to apply the PSF(s) #\n",
    "# psf_path --- Path to the directory containing the PSF(s) #\n",
    "# sex_cfg --- SExtractor config file to be used during the execution of the command #\n",
    "# save_path --- The directory where the PSF-applied catalog(s) will be stored #\n",
    "\n",
    "psf_path = '/home/yobd/Documents/AstroAliSciObj/W-S-I+/' + cfg_param + '/PSFs/'\n",
    "\n",
    "sex_cfg = '/home/yobd/Documents/after_psfex.sex'\n",
    "\n",
    "save_path = '/home/yobd/Documents/AstroAliSciObj/W-S-I+/' + cfg_param + '/Catalogs_Post_PSF/'\n",
    "\n",
    "apply_PSF(im_path, psf_path, sex_cfg, save_path)\n",
    "\n",
    "# The wcs_corr corrects the WCS header in the SExtractor-created catalog(s) #\n",
    "# cat_path --- Path to the directory containg the SExtractor catalog(s) #\n",
    "# im_path --- The path to the image(s) from which the SExtractor catalog(s) was(were) extracted #\n",
    "# save_path --- The directory where the WCS-corrected SExtractor catalog(s) will be stored #\n",
    "\n",
    "cat_path = '/home/yobd/Documents/AstroAliSciObj/W-S-I+/' + cfg_param + '/Catalogs_Post_PSF/'\n",
    "\n",
    "save_path = '/home/yobd/Documents/AstroAliSciObj/W-S-I+/' + cfg_param + '/Catalogs_Finished/'\n",
    "\n",
    "if not os.path.exists(save_path):\n",
    "    os.makedirs(save_path)\n",
    "\n",
    "wcs_corr(cat_path, im_path, save_path)"
   ]
  },
  {
   "cell_type": "code",
   "execution_count": 8,
   "metadata": {},
   "outputs": [
    {
     "name": "stdout",
     "output_type": "stream",
     "text": [
      "/home/yobd/Documents/AstroAliSciObj/W-S-I+/MINAREA_4_THRESH_2_dot_7_SNR_20_SATUR_LEVEL_B4_PSFEX_30000_SMP_VAR_0_dot_2_SEEING_6_dot_7_7_MAG_PSF/Catalogs_Finished/W-S-I+_chihiro_stacked_tmp.dat\n",
      "/home/yobd/Documents/AstroAliSciObj/W-S-I+/MINAREA_4_THRESH_2_dot_7_SNR_20_SATUR_LEVEL_B4_PSFEX_30000_SMP_VAR_0_dot_2_SEEING_6_dot_7_7_MAG_PSF/Catalogs_Finished/W-S-I+_clarisse_stacked_tmp.dat\n",
      "/home/yobd/Documents/AstroAliSciObj/W-S-I+/MINAREA_4_THRESH_2_dot_7_SNR_20_SATUR_LEVEL_B4_PSFEX_30000_SMP_VAR_0_dot_2_SEEING_6_dot_7_7_MAG_PSF/Catalogs_Finished/W-S-I+_san_stacked_tmp.dat\n",
      "/home/yobd/Documents/AstroAliSciObj/W-S-I+/MINAREA_4_THRESH_2_dot_7_SNR_20_SATUR_LEVEL_B4_PSFEX_30000_SMP_VAR_0_dot_2_SEEING_6_dot_7_7_MAG_PSF/Catalogs_Finished/W-S-I+_sophie_stacked_tmp.dat\n",
      "/home/yobd/Documents/AstroAliSciObj/W-S-I+/MINAREA_4_THRESH_2_dot_7_SNR_20_SATUR_LEVEL_B4_PSFEX_30000_SMP_VAR_0_dot_2_SEEING_6_dot_7_7_MAG_PSF/Catalogs_Finished/W-S-I+_kiki_stacked_tmp.dat\n",
      "/home/yobd/Documents/AstroAliSciObj/W-S-I+/MINAREA_4_THRESH_2_dot_7_SNR_20_SATUR_LEVEL_B4_PSFEX_30000_SMP_VAR_0_dot_2_SEEING_6_dot_7_7_MAG_PSF/Catalogs_Finished/W-S-I+_fio_stacked_tmp.dat\n",
      "/home/yobd/Documents/AstroAliSciObj/W-S-I+/MINAREA_4_THRESH_2_dot_7_SNR_20_SATUR_LEVEL_B4_PSFEX_30000_SMP_VAR_0_dot_2_SEEING_6_dot_7_7_MAG_PSF/Catalogs_Finished/W-S-I+_nausicaa_stacked_tmp.dat\n",
      "/home/yobd/Documents/AstroAliSciObj/W-S-I+/MINAREA_4_THRESH_2_dot_7_SNR_20_SATUR_LEVEL_B4_PSFEX_30000_SMP_VAR_0_dot_2_SEEING_6_dot_7_7_MAG_PSF/Catalogs_Finished/W-S-I+_sheeta_stacked_tmp.dat\n",
      "/home/yobd/Documents/AstroAliSciObj/W-S-I+/MINAREA_4_THRESH_2_dot_7_SNR_20_SATUR_LEVEL_B4_PSFEX_30000_SMP_VAR_0_dot_2_SEEING_6_dot_7_7_MAG_PSF/Catalogs_Finished/W-S-I+_satsuki_stacked_tmp.dat\n",
      "/home/yobd/Documents/AstroAliSciObj/W-S-I+/MINAREA_4_THRESH_2_dot_7_SNR_20_SATUR_LEVEL_B4_PSFEX_30000_SMP_VAR_0_dot_2_SEEING_6_dot_7_7_MAG_PSF/Catalogs_Finished/W-S-I+_ponyo_stacked_tmp.dat\n"
     ]
    }
   ],
   "source": [
    "### TO STACK THE NEWLY-CREATED CATALOGS ###\n",
    "\n",
    "%run Crossmatch.ipynb\n",
    "\n",
    "path = '/home/yobd/Documents/AstroAliSciObj/W-S-I+/' + cfg_param + '/Catalogs_Finished/'\n",
    "\n",
    "save_path = '/home/yobd/Documents/AstroAliSciObj/W-S-I+/' + cfg_param + '/W-S-I+_Full_Catalog_' + cfg_param + '.dat'\n",
    "\n",
    "stack_catalogs(path, save_path)"
   ]
  },
  {
   "cell_type": "code",
   "execution_count": 9,
   "metadata": {},
   "outputs": [],
   "source": [
    "## DS9 REGION CELL ##\n",
    "\n",
    "from astropy.io import ascii\n",
    "%run ds9_region.ipynb\n",
    "\n",
    "#The path where the dataset is located\n",
    "path = '/home/yobd/Documents/AstroAliSciObj/W-S-I+/' + cfg_param + '/W-S-I+_Full_Catalog_' + cfg_param + '.dat'\n",
    "\n",
    "save_path = '/home/yobd/Documents/AstroAliSciObj/W-S-I+/' + cfg_param + '/W-S-I+_Full_Catalog_' + cfg_param + '.reg'\n",
    "\n",
    "cat = ascii.read(path)\n",
    "\n",
    "create_ds9_region(cat['ra'], cat['dec'], save_path)"
   ]
  },
  {
   "cell_type": "code",
   "execution_count": 4,
   "metadata": {},
   "outputs": [
    {
     "name": "stderr",
     "output_type": "stream",
     "text": [
      "WARNING: VerifyWarning: Invalid 'BLANK' keyword in header.  The 'BLANK' keyword is only applicable to integer data, and will be ignored in this HDU. [astropy.io.fits.hdu.image]\n",
      "WARNING: FITSFixedWarning: RADECSYS= 'FK5 ' / The equatorial coordinate system \n",
      "the RADECSYS keyword is deprecated, use RADESYSa. [astropy.wcs.wcs]\n",
      "WARNING: FITSFixedWarning: 'datfix' made the change 'Set MJD-OBS to 57900.000000 from DATE-OBS.\n",
      "Set DATE-END to '2017-05-27T13:01:30.403' from MJD-END'. [astropy.wcs.wcs]\n"
     ]
    }
   ],
   "source": [
    "## SEXTRACTOR CELL FOR THE N-A-L656 FILTER USING FIXED APERTURE PHOTOMETRY ##\n",
    "\n",
    "%run SExtractor.ipynb\n",
    "\n",
    "# The configuration parameters being used\n",
    "cfg_param = 'MINAREA_4_THRESH_2_dot_7_SNR_20_SATUR_LEVEL_B4_PSFEX_30000_SMP_VAR_0_dot_2_SEEING_6_dot_7_7_MAG_PSF'\n",
    "\n",
    "# The make_PSF function creates the PSF(s) for a given image(s) using the SExtractor and PSFEx tools #\n",
    "# SExtractor will build a catalog of the image in the FITS_LDAC format to be used later by PSFEx #\n",
    "# im_path --- The path to the image(s) from which the PSF(s) will be built #\n",
    "# cat_path --- Path to the directory containing the catalog(s) of the sources present in the image(s) #\n",
    "# tmp_path --- Temporary directory where the newly-created PSF will be generated (typically the same directory from where Python is being run) #\n",
    "# save_path --- The directory where the PSF(s) will be stored #\n",
    "# sex_cfg --- Config file to be used when running SExtractor #\n",
    "# psfex_cfg --- Config file to be used when running PSFEx #\n",
    "\n",
    "im_path = '/home/yobd/Documents/AstroAliSciObj/NaN_Edges/N-A-L656_Images/'\n",
    "\n",
    "cat_path = '/home/yobd/Documents/AstroAliSciObj/N-A-L656/' + cfg_param + '/Catalogs_Pre_PSF/'\n",
    "\n",
    "tmp_path = '/home/yobd/Documents/'\n",
    "\n",
    "save_path = '/home/yobd/Documents/AstroAliSciObj/N-A-L656/' + cfg_param + '/PSFs/'\n",
    "\n",
    "sex_cfg = '/home/yobd/Documents/before_psfex_aper_656.sex'\n",
    "\n",
    "psfex_cfg = '/home/yobd/Documents/aper_656.psfex'\n",
    "\n",
    "make_PSF(im_path, cat_path, tmp_path, save_path, sex_cfg, psfex_cfg)\n",
    "\n",
    "# The apply_PSF applies the PSF(s) created during the make_PSF command to the image(s) #\n",
    "# im_path --- The path to the image(s) on which the user wishes to apply the PSF(s) #\n",
    "# psf_path --- Path to the directory containing the PSF(s) #\n",
    "# sex_cfg --- SExtractor config file to be used during the execution of the command #\n",
    "# save_path --- The directory where the PSF-applied catalog(s) will be stored #\n",
    "\n",
    "psf_path = '/home/yobd/Documents/AstroAliSciObj/N-A-L656/' + cfg_param + '/PSFs/'\n",
    "\n",
    "sex_cfg = '/home/yobd/Documents/after_psfex_656.sex'\n",
    "\n",
    "save_path = '/home/yobd/Documents/AstroAliSciObj/N-A-L656/' + cfg_param + '/Catalogs_Post_PSF/'\n",
    "\n",
    "apply_PSF(im_path, psf_path, sex_cfg, save_path)\n",
    "\n",
    "# The wcs_corr corrects the WCS header in the SExtractor-created catalog(s) #\n",
    "# cat_path --- Path to the directory containg the SExtractor catalog(s) #\n",
    "# im_path --- The path to the image(s) from which the SExtractor catalog(s) was(were) extracted #\n",
    "# save_path --- The directory where the WCS-corrected SExtractor catalog(s) will be stored #\n",
    "\n",
    "cat_path = '/home/yobd/Documents/AstroAliSciObj/N-A-L656/' + cfg_param + '/Catalogs_Post_PSF/'\n",
    "\n",
    "save_path = '/home/yobd/Documents/AstroAliSciObj/N-A-L656/' + cfg_param + '/Catalogs_Finished/'\n",
    "\n",
    "if not os.path.exists(save_path):\n",
    "    os.makedirs(save_path)\n",
    "\n",
    "wcs_corr(cat_path, im_path, save_path)"
   ]
  },
  {
   "cell_type": "code",
   "execution_count": 5,
   "metadata": {},
   "outputs": [
    {
     "name": "stdout",
     "output_type": "stream",
     "text": [
      "/home/yobd/Documents/AstroAliSciObj/N-A-L656/MINAREA_4_THRESH_2_dot_7_SNR_20_SATUR_LEVEL_B4_PSFEX_30000_SMP_VAR_0_dot_2_SEEING_6_dot_7_7_MAG_PSF/Catalogs_Finished/N-A-L656_kiki_stacked_tmp.dat\n",
      "/home/yobd/Documents/AstroAliSciObj/N-A-L656/MINAREA_4_THRESH_2_dot_7_SNR_20_SATUR_LEVEL_B4_PSFEX_30000_SMP_VAR_0_dot_2_SEEING_6_dot_7_7_MAG_PSF/Catalogs_Finished/N-A-L656_ponyo_stacked_tmp.dat\n",
      "/home/yobd/Documents/AstroAliSciObj/N-A-L656/MINAREA_4_THRESH_2_dot_7_SNR_20_SATUR_LEVEL_B4_PSFEX_30000_SMP_VAR_0_dot_2_SEEING_6_dot_7_7_MAG_PSF/Catalogs_Finished/N-A-L656_sophie_stacked_tmp.dat\n",
      "/home/yobd/Documents/AstroAliSciObj/N-A-L656/MINAREA_4_THRESH_2_dot_7_SNR_20_SATUR_LEVEL_B4_PSFEX_30000_SMP_VAR_0_dot_2_SEEING_6_dot_7_7_MAG_PSF/Catalogs_Finished/N-A-L656_satsuki_stacked_tmp.dat\n",
      "/home/yobd/Documents/AstroAliSciObj/N-A-L656/MINAREA_4_THRESH_2_dot_7_SNR_20_SATUR_LEVEL_B4_PSFEX_30000_SMP_VAR_0_dot_2_SEEING_6_dot_7_7_MAG_PSF/Catalogs_Finished/N-A-L656_clarisse_stacked_tmp.dat\n",
      "/home/yobd/Documents/AstroAliSciObj/N-A-L656/MINAREA_4_THRESH_2_dot_7_SNR_20_SATUR_LEVEL_B4_PSFEX_30000_SMP_VAR_0_dot_2_SEEING_6_dot_7_7_MAG_PSF/Catalogs_Finished/N-A-L656_san_stacked_tmp.dat\n",
      "/home/yobd/Documents/AstroAliSciObj/N-A-L656/MINAREA_4_THRESH_2_dot_7_SNR_20_SATUR_LEVEL_B4_PSFEX_30000_SMP_VAR_0_dot_2_SEEING_6_dot_7_7_MAG_PSF/Catalogs_Finished/N-A-L656_sheeta_stacked_tmp.dat\n",
      "/home/yobd/Documents/AstroAliSciObj/N-A-L656/MINAREA_4_THRESH_2_dot_7_SNR_20_SATUR_LEVEL_B4_PSFEX_30000_SMP_VAR_0_dot_2_SEEING_6_dot_7_7_MAG_PSF/Catalogs_Finished/N-A-L656_nausicaa_stacked_tmp.dat\n",
      "/home/yobd/Documents/AstroAliSciObj/N-A-L656/MINAREA_4_THRESH_2_dot_7_SNR_20_SATUR_LEVEL_B4_PSFEX_30000_SMP_VAR_0_dot_2_SEEING_6_dot_7_7_MAG_PSF/Catalogs_Finished/N-A-L656_chihiro_stacked_tmp.dat\n",
      "/home/yobd/Documents/AstroAliSciObj/N-A-L656/MINAREA_4_THRESH_2_dot_7_SNR_20_SATUR_LEVEL_B4_PSFEX_30000_SMP_VAR_0_dot_2_SEEING_6_dot_7_7_MAG_PSF/Catalogs_Finished/N-A-L656_fio_stacked_tmp.dat\n"
     ]
    }
   ],
   "source": [
    "### TO STACK THE NEWLY-CREATED CATALOGS ###\n",
    "\n",
    "%run Crossmatch.ipynb\n",
    "\n",
    "path = '/home/yobd/Documents/AstroAliSciObj/N-A-L656/' + cfg_param + '/Catalogs_Finished/'\n",
    "\n",
    "save_path = '/home/yobd/Documents/AstroAliSciObj/N-A-L656/' + cfg_param + '/N-A-L656_Full_Catalog_' + cfg_param + '.dat'\n",
    "\n",
    "stack_catalogs(path, save_path)"
   ]
  },
  {
   "cell_type": "code",
   "execution_count": 6,
   "metadata": {},
   "outputs": [],
   "source": [
    "## DS9 REGION CELL ##\n",
    "\n",
    "from astropy.io import ascii\n",
    "%run ds9_region.ipynb\n",
    "\n",
    "#The path where the dataset is located\n",
    "path = '/home/yobd/Documents/AstroAliSciObj/N-A-L656/' + cfg_param + '/N-A-L656_Full_Catalog_' + cfg_param + '.dat'\n",
    "\n",
    "save_path = '/home/yobd/Documents/AstroAliSciObj/N-A-L656/' + cfg_param + '/N-A-L656_Full_Catalog_' + cfg_param + '.reg'\n",
    "\n",
    "cat = ascii.read(path)\n",
    "\n",
    "create_ds9_region(cat['ra'], cat['dec'], save_path)"
   ]
  },
  {
   "cell_type": "code",
   "execution_count": null,
   "metadata": {},
   "outputs": [],
   "source": []
  }
 ],
 "metadata": {
  "kernelspec": {
   "display_name": "Python 3",
   "language": "python",
   "name": "python3"
  },
  "language_info": {
   "codemirror_mode": {
    "name": "ipython",
    "version": 3
   },
   "file_extension": ".py",
   "mimetype": "text/x-python",
   "name": "python",
   "nbconvert_exporter": "python",
   "pygments_lexer": "ipython3",
   "version": "3.7.5"
  }
 },
 "nbformat": 4,
 "nbformat_minor": 2
}
