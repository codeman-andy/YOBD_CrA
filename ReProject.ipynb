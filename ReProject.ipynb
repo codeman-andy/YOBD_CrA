{
 "cells": [
  {
   "cell_type": "code",
   "execution_count": 1,
   "metadata": {},
   "outputs": [
    {
     "name": "stderr",
     "output_type": "stream",
     "text": [
      "WARNING: VerifyWarning: Invalid 'BLANK' keyword in header.  The 'BLANK' keyword is only applicable to integer data, and will be ignored in this HDU. [astropy.io.fits.hdu.image]\n",
      "WARNING: FITSFixedWarning: RADECSYS= 'FK5 ' / The equatorial coordinate system \n",
      "the RADECSYS keyword is deprecated, use RADESYSa. [astropy.wcs.wcs]\n",
      "WARNING: FITSFixedWarning: 'datfix' made the change 'Set MJD-OBS to 57900.000000 from DATE-OBS.\n",
      "Set DATE-END to '2017-05-27T13:01:30.403' from MJD-END'. [astropy.wcs.wcs]\n"
     ]
    }
   ],
   "source": [
    "import numpy as np\n",
    "import os\n",
    "from astropy.io import fits\n",
    "from reproject import reproject_interp\n",
    "from reproject.mosaicking import find_optimal_celestial_wcs, reproject_and_coadd\n",
    "\n",
    "def mosaic(hdus):\n",
    "    \n",
    "    wcs_out, shape_out = find_optimal_celestial_wcs(hdus, auto_rotate = True)\n",
    "    \n",
    "    array, footprint = reproject_and_coadd(hdus, wcs_out, shape_out = shape_out, reproject_function = reproject_interp, match_background = True)\n",
    "    \n",
    "    header = hdus[0][0].header\n",
    "    \n",
    "    header.update(wcs_out.to_header())\n",
    "    \n",
    "    return array, header\n",
    "\n",
    "# Change the PATH variable to the folder with your images and then run this cell\n",
    "\n",
    "def main():\n",
    "    \n",
    "    path = '/home/yobd/Documents/AstroAliSciObj/NaN_Edges/N-A-L656_Images/'\n",
    "    \n",
    "    filter_name = 'N-A-L656'\n",
    "    \n",
    "    ims = np.asarray([f for f in os.listdir(path) if ('.fits' in f)])\n",
    "    \n",
    "    for i in range(len(ims)):\n",
    "        \n",
    "        if i == 0: hdus = [fits.open(path + ims[i])]\n",
    "        \n",
    "        else: hdus = hdus + [fits.open(path + ims[i])]\n",
    "    \n",
    "    array, header = mosaic(hdus)\n",
    "    \n",
    "    fits.writeto('CrA_' + filter_name + '.fits', array, header, overwrite = True)\n",
    "\n",
    "if __name__ == \"__main__\":\n",
    "    \n",
    "    main()"
   ],
   {
   "cell_type": "code",
   "execution_count": 2,
   "metadata": {},
   "outputs": [
    {
     "name": "stdout",
     "output_type": "stream",
     "text": [
      "Requirement already satisfied: reproject in /usr/local/lib/python3.7/dist-packages (0.6)\n",
      "Requirement already satisfied: numpy>=1.13 in /home/yobd/.local/lib/python3.7/site-packages (from reproject) (1.17.4)\n",
      "Requirement already satisfied: astropy-healpix>=0.2 in /usr/local/lib/python3.7/dist-packages (from reproject) (0.5)\n",
      "Requirement already satisfied: scipy>=0.9 in /usr/local/lib/python3.7/dist-packages (from reproject) (1.3.3)\n",
      "Requirement already satisfied: astropy>=3.2 in /home/yobd/.local/lib/python3.7/site-packages (from reproject) (3.2.3)\n",
      "Note: you may need to restart the kernel to use updated packages.\n"
     ]
    }
   ],
   "source": [
    "pip install reproject"
   ]
  },
  {
   "cell_type": "code",
   "execution_count": null,
   "metadata": {},
   "outputs": [],
   "source": []
  },
 ],
 "metadata": {
  "kernelspec": {
   "display_name": "Python 3",
   "language": "python",
   "name": "python3"
  },
  "language_info": {
   "codemirror_mode": {
    "name": "ipython",
    "version": 3
   },
   "file_extension": ".py",
   "mimetype": "text/x-python",
   "name": "python",
   "nbconvert_exporter": "python",
   "pygments_lexer": "ipython3",
   "version": "3.7.5"
  }
 },
 "nbformat": 4,
 "nbformat_minor": 2
}
