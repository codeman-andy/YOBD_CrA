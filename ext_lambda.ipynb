{
 "cells": [
  {
   "cell_type": "markdown",
   "metadata": {},
   "source": [
    "## to apply extinction to a color, for example I-J, you need to add the extinction in the I-band, and subtract that in the J-band. (I-J)0=I+AI-(J+AJ). Zero stands for \"intrin"
   ]
  },
  {
   "cell_type": "code",
   "execution_count": 2,
   "metadata": {},
   "outputs": [],
   "source": [
    "#Extinction law from:\n",
    "#https://ui.adsabs.harvard.edu/abs/1989ApJ...345..245C/abstract\n",
    "\n",
    "#Av is the visual extinction\n",
    "#lambda should be in angstroms\n",
    "\n",
    "def ext_lambda(lam, Av, Rv):\n",
    "    if lam <= 10000:\n",
    "        lam = lam/ 10000. #to micrometers\n",
    "        x = 1.0 / lam\n",
    "        y = x - 1.82\n",
    "        a = 1 + 0.17699 * y - 0.50447 * y ** 2 - 0.02427 * y ** 3 + 0.72085 * y ** 4 + 0.01979 * y ** 5 - 0.7753 * y ** 6 + 0.32999 * y ** 7\n",
    "        b = 1.41338 * y + 2.28305 * y ** 2 + 1.07233 * y ** 3 - 5.38434 * y ** 4 - 0.62251 * y ** 5 + 5.3026 * y ** 6 - 2.09002 * y ** 7\n",
    "        Alambda = Av * (a + b / Rv)\n",
    "        return Alambda\n",
    "    else:\n",
    "        lam = lam / 10000.\n",
    "        x = 1.0 / lam\n",
    "        a = 0.574 * x ** 1.61\n",
    "        b = - 0.527 * x ** 1.61\n",
    "        Alambda = Av * (a + b / Rv)\n",
    "        return Alambda"
   ]
  },
  {
   "cell_type": "code",
   "execution_count": 2,
   "metadata": {},
   "outputs": [
    {
     "name": "stdout",
     "output_type": "stream",
     "text": [
      "1.15209229268\n",
      "0.867761183629\n",
      "0.662626867577\n",
      "0.509110010245\n",
      "0.441213771694\n"
     ]
    }
   ],
   "source": [
    "#PANSTARRS\n",
    "#glam=4900.1 \n",
    "#rlam=6241.3\n",
    "#ilam=7563.8\n",
    "#zlam=8690.1\n",
    "#ylam=9644.6\n",
    "#print(ext_lambda(glam,1,3.1))\n",
    "#print(ext_lambda(rlam,1,3.1))\n",
    "#print(ext_lambda(ilam,1,3.1))\n",
    "#print(ext_lambda(zlam,1,3.1))\n",
    "#print(ext_lambda(ylam,1,3.1))"
   ]
  },
  {
   "cell_type": "code",
   "execution_count": 3,
   "metadata": {},
   "outputs": [
    {
     "name": "stdout",
     "output_type": "stream",
     "text": [
      "0.785237596874\n",
      "1.04850243001\n",
      "0.60920854474\n"
     ]
    }
   ],
   "source": [
    "#Gaia\n",
    "#Glam=6773.7\n",
    "#GBPlam=5278.6\n",
    "#GRPlam=7919.1\n",
    "#print(ext_lambda(Glam,1,3.1))\n",
    "#print(ext_lambda(GBPlam,1,3.1))\n",
    "#print(ext_lambda(GRPlam,1,3.1))"
   ]
  },
  {
   "cell_type": "code",
   "execution_count": 4,
   "metadata": {},
   "outputs": [
    {
     "name": "stdout",
     "output_type": "stream",
     "text": [
      "0.28058997497\n",
      "0.117911339921\n"
     ]
    }
   ],
   "source": [
    "#VHS\n",
    "#Jlam=12540.9\n",
    "#Klam=21487.7\n",
    "#print(ext_lambda(Jlam,1,3.1))\n",
    "#print(ext_lambda(Klam,1,3.1))"
   ]
  },
  {
   "cell_type": "code",
   "execution_count": 3,
   "metadata": {},
   "outputs": [
    {
     "name": "stdout",
     "output_type": "stream",
     "text": [
      "0.8508820561290933\n"
     ]
    }
   ],
   "source": [
    "#Rlam=6349.0\n",
    "#print(ext_lambda(Rlam,1,3.1))"
   ]
  },
  {
   "cell_type": "code",
   "execution_count": null,
   "metadata": {},
   "outputs": [],
   "source": []
  }
 ],
 "metadata": {
  "kernelspec": {
   "display_name": "Python 3",
   "language": "python",
   "name": "python3"
  },
  "language_info": {
   "codemirror_mode": {
    "name": "ipython",
    "version": 3
   },
   "file_extension": ".py",
   "mimetype": "text/x-python",
   "name": "python",
   "nbconvert_exporter": "python",
   "pygments_lexer": "ipython3",
   "version": "3.7.5"
  }
 },
 "nbformat": 4,
 "nbformat_minor": 2
}
