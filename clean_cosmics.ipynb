{
 "cells": [
  {
   "cell_type": "code",
   "execution_count": null,
   "metadata": {},
   "outputs": [],
   "source": [
    "import ncosmics as cosmics\n",
    "from astropy.io import fits\n",
    "import numpy as np\n",
    "import os\n",
    "\n",
    "# Performs cosmic-ray cleaning on all images within a target folder\n",
    "def cc_cleaner(path, savepath):\n",
    "    \n",
    "    gain = 3.65\n",
    "    readnoise = 10.0\n",
    "    sigclip = 5.0\n",
    "    sigfrac = 0.01\n",
    "    objlim = 5.0\n",
    "    folder = os.fsencode(path)\n",
    "    \n",
    "    for item in os.listdir(folder):\n",
    "        \n",
    "        item = os.fsdecode(item)\n",
    "        \n",
    "        save_item = savepath + item\n",
    "        \n",
    "        item = path + item\n",
    "        \n",
    "        hdu = fits.open(item)\n",
    "        image = hdu[0].data\n",
    "        header = hdu[0].header\n",
    "        \n",
    "        c = cosmics.cosmicsimage(image, gain = gain, readnoise = readnoise, sigclip = sigclip, sigfrac = sigfrac, objlim = objlim)\n",
    "        c.run(maxiter = 4)\n",
    "        cosmics.tofits(save_item, np.transpose(c.cleanarray), header)"
   ]
  }
 ],
 "metadata": {
  "kernelspec": {
   "display_name": "Python 3",
   "language": "python",
   "name": "python3"
  },
  "language_info": {
   "codemirror_mode": {
    "name": "ipython",
    "version": 3
   },
   "file_extension": ".py",
   "mimetype": "text/x-python",
   "name": "python",
   "nbconvert_exporter": "python",
   "pygments_lexer": "ipython3",
   "version": "3.7.5"
  }
 },
 "nbformat": 4,
 "nbformat_minor": 4
}
