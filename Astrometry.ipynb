{
 "cells": [
  {
   "cell_type": "code",
   "execution_count": null,
   "metadata": {},
   "outputs": [],
   "source": [
    "import os\n",
    "\n",
    "# Performs the local version of the ASTROMETRY software on all images in a target folder\n",
    "def astrometry(path, savepath):\n",
    "    \n",
    "    if not os.path.exists(savepath):\n",
    "        os.makedirs(savepath)\n",
    "    \n",
    "    #Encodes the path of the dataset to be used by other OS methods\n",
    "    folder = os.fsencode(path)\n",
    "    \n",
    "    for item in os.listdir(folder):\n",
    "        \n",
    "        item = os.fsdecode(item) #Decodes the current item so it becomes a string\n",
    "        \n",
    "        item = path + item #To comply with the func() function parameter\n",
    "        \n",
    "        if item.endswith('.fits'):\n",
    "            \n",
    "            os.system(\"solve-field --scale-units degwidth --scale-high 1 --overwrite \" + item)\n",
    "    \n",
    "    \n",
    "    for item in os.listdir(folder):\n",
    "        \n",
    "        item = os.fsdecode(item) #Decodes the current item so it becomes a string\n",
    "        \n",
    "        item = path + item #To comply with the func() function parameter\n",
    "        \n",
    "        if item.endswith('.new'):\n",
    "            \n",
    "            item_name = os.path.splitext(os.path.basename(item))[0]\n",
    "            \n",
    "            os.system(\"cp \" + item + \" \" + savepath + item_name + \".fits\")"
   ]
  }
 ],
 "metadata": {
  "kernelspec": {
   "display_name": "Python 3",
   "language": "python",
   "name": "python3"
  },
  "language_info": {
   "codemirror_mode": {
    "name": "ipython",
    "version": 3
   },
   "file_extension": ".py",
   "mimetype": "text/x-python",
   "name": "python",
   "nbconvert_exporter": "python",
   "pygments_lexer": "ipython3",
   "version": "3.7.5"
  }
 },
 "nbformat": 4,
 "nbformat_minor": 2
}
