{
 "cells": [
  {
   "cell_type": "code",
   "execution_count": 18,
   "metadata": {},
   "outputs": [],
   "source": [
    "from astropy.io import ascii\n",
    "\n",
    "def create_ds9_region(ra,dec,name,**kwargs):\n",
    "    #INPUT: ra, dec (arrays), name of the file to write to\n",
    "    #**kwargs stands for all the optional input arguments that may be specified\n",
    "    #OPTIONAL INPUT (if not specified, the defaults values are used): \n",
    "    #shape: circle, box, cross, etc. (see ds9 for more options)\n",
    "    #color: green, red, blue, etc.\n",
    "    #width: width of the line for the individual regions\n",
    "    #text: any text you may want to write on top of each region. This is an array with the same dimension as ra/dec.\n",
    "    \n",
    "    #Read the optional arguments or set defualt values\n",
    "    shape = kwargs.get('shape', 'circle')\n",
    "    color = kwargs.get('color', 'green')\n",
    "    width = kwargs.get('width', 2)\n",
    "    text = kwargs.get('text', None)\n",
    "    \n",
    "    #open a region file\n",
    "    reg  = open(name, \"w+\")\n",
    "    #write the first line (some ds9 syntax, no need to touch)\n",
    "    reg.write('global color=green dashlist=8 3 width=1 font=\"helvetica 10 normal roman\" select=1 highlite=1 dash=0 fixed=0 edit=1 move=1 delete=1 include=1 source=1' + '\\n')\n",
    "    \n",
    "    #write each point to the region file\n",
    "    if text is not None: \n",
    "        for i in range(len(ra)): reg.write('fk5;point('+str(ra[i])+','+str(dec[i])+') # point='+ shape + ' color=' + color + ' width='+str(width) + ' text={'+text[i]+'}' + '\\n')\n",
    "    else:    \n",
    "        for i in range(len(ra)): reg.write('fk5;point('+str(ra[i])+','+str(dec[i])+') # point='+ shape + ' color=' + color + ' width='+str(width) + '\\n')\n",
    "       \n",
    "    reg.close() "
   ]
  },
  {
   "cell_type": "code",
   "execution_count": 19,
   "metadata": {},
   "outputs": [],
   "source": [
    "#cat = ascii.read('/home/kmuzic/Astronomy/CrA/wetransfer-6d0a72/Gaia Source Catalogue (DR2).dat')\n",
    "\n",
    "#call the function with text\n",
    "#create_ds9_region(cat['ra'],cat['dec'],'cra_gaia_1.reg',color='blue',shape='circle',width=2,text=cat['designation'])\n",
    "\n",
    "#no text\n",
    "#create_ds9_region(cat['ra'],cat['dec'],'cra_gaia_2.reg',color='magenta',shape='box',width=2)\n",
    "\n",
    "#no text, with default optional arguments\n",
    "#create_ds9_region(cat['ra'],cat['dec'],'cra_gaia_3.reg')"
   ]
  },
  {
   "cell_type": "code",
   "execution_count": null,
   "metadata": {},
   "outputs": [],
   "source": []
  }
 ],
 "metadata": {
  "kernelspec": {
   "display_name": "Python 3",
   "language": "python",
   "name": "python3"
  },
  "language_info": {
   "codemirror_mode": {
    "name": "ipython",
    "version": 3
   },
   "file_extension": ".py",
   "mimetype": "text/x-python",
   "name": "python",
   "nbconvert_exporter": "python",
   "pygments_lexer": "ipython3",
   "version": "3.7.5"
  }
 },
 "nbformat": 4,
 "nbformat_minor": 4
}
